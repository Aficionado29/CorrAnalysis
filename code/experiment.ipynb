import numpy as np
import pandas as pd
import seaborn as sns
import math
import matplotlib.pyplot as plt

from pyod.models.pca import PCA
from scipy import stats

# ******************************************************************************************************* #
# ************************************ CONSTANTS, MULTIPLIERS *************************************
# ******************************************************************************************************* #

PL = "Premier League"
LL = "La Liga"
SA = "Serie A"
BL = "Bundesliga"
L1 = "Ligue 1"

PL_multiplier = 38
LL_multiplier = 38
SA_multiplier = 38
BL_multiplier = 34
L1_multiplier = 38

weights = np.array([0, 3, 1, -0.5, -1, -0.5, 0.5, -0.5, 0.2, 0.7, 1, 1, -1, -2, -2, 1, 2, -1, 3])
"""
Matches_played          30.0 -> 0
Goals                    0.0 -> 3
Assists                  0.0 -> 1
Yellow_cards             5.0 -> -0,5
Red_cards                0.0 -> -1
Fouls_commited          50.0 -> -0,5
Fouls_drawn             26.0 -> 0,5
Offsides                 2.0 -> -0,5
Crosses                121.0 -> 0,2
Interceptions           52.0 -> 0,7
Tackles_won             50.0 -> 1
Penalties_won            0.0 -> 1
Penalties_conceided      0.0 -> -1
Own_goals                0.0 -> -2
Goals_against            0.0 -> -2
Saves                    0.0 -> 1
Wins                     0.0 -> 2
Loses                    0.0 -> -1
Clean_sheets             0.0 -> 3
"""

# ******************************************************************************************************* #
# ******************************************************************************************************* #
# ******************************************************************************************************* #



# ******************************************************************************************************* #
# ************************************ DATA LOADING AND PREPROCESSING *************************************
# ******************************************************************************************************* #

# ****************************************** load FIFA datasets ***************************************** #
dataFifa18 = pd.read_csv('https://raw.githubusercontent.com/Aficionado29/CorrAnalysis/main/data/FIFA18_complete.csv', encoding = 'utf-8')
dataFifa18 = dataFifa18[['name', 'full_name', 'eur_value', 'overall']]


# *************************************** load real-world datasets ************************************** #
dataPL_1617_STD = pd.read_csv('https://raw.githubusercontent.com/Aficionado29/CorrAnalysis/main/data/PL_1617_STD.csv', encoding = 'utf-8')
dataPL_1617_STD['Player'] = dataPL_1617_STD.Player.str.extract(r'(^.*?(?=\\))', expand = True)
dataPL_1617_STD = pd.concat([dataPL_1617_STD, dataPL_1617_STD]).groupby(['Player']).sum()/2

dataLL_1617_STD = pd.read_csv('https://raw.githubusercontent.com/Aficionado29/CorrAnalysis/main/data/LL_1617_STD.csv', encoding = 'utf-8')
dataLL_1617_STD['Player'] = dataLL_1617_STD.Player.str.extract(r'(^.*?(?=\\))', expand = True)
dataLL_1617_STD = pd.concat([dataLL_1617_STD, dataLL_1617_STD]).groupby(['Player']).sum()/2

dataSA_1617_STD = pd.read_csv('https://raw.githubusercontent.com/Aficionado29/CorrAnalysis/main/data/SA_1617_STD.csv', encoding = 'utf-8')
dataSA_1617_STD['Player'] = dataSA_1617_STD.Player.str.extract(r'(^.*?(?=\\))', expand = True)
dataSA_1617_STD = pd.concat([dataSA_1617_STD, dataSA_1617_STD]).groupby(['Player']).sum()/2

dataBL_1617_STD = pd.read_csv('https://raw.githubusercontent.com/Aficionado29/CorrAnalysis/main/data/BL_1617_STD.csv', encoding = 'utf-8')
dataBL_1617_STD['Player'] = dataBL_1617_STD.Player.str.extract(r'(^.*?(?=\\))', expand = True)
dataBL_1617_STD = pd.concat([dataBL_1617_STD, dataBL_1617_STD]).groupby(['Player']).sum()/2

dataL1_1617_STD = pd.read_csv('https://raw.githubusercontent.com/Aficionado29/CorrAnalysis/main/data/L1_1617_STD.csv', encoding = 'utf-8')
dataL1_1617_STD['Player'] = dataL1_1617_STD.Player.str.extract(r'(^.*?(?=\\))', expand = True)
dataL1_1617_STD = pd.concat([dataL1_1617_STD, dataL1_1617_STD]).groupby(['Player']).sum()/2



dataPL_1617_GK = pd.read_csv('https://raw.githubusercontent.com/Aficionado29/CorrAnalysis/main/data/PL_1617_GK.csv', encoding = 'utf-8')
dataPL_1617_GK['Player'] = dataPL_1617_GK.Player.str.extract(r'(^.*?(?=\\))', expand = True)

dataLL_1617_GK = pd.read_csv('https://raw.githubusercontent.com/Aficionado29/CorrAnalysis/main/data/LL_1617_GK.csv', encoding = 'utf-8')
dataLL_1617_GK['Player'] = dataLL_1617_GK.Player.str.extract(r'(^.*?(?=\\))', expand = True)

dataSA_1617_GK = pd.read_csv('https://raw.githubusercontent.com/Aficionado29/CorrAnalysis/main/data/SA_1617_GK.csv', encoding = 'utf-8')
dataSA_1617_GK['Player'] = dataSA_1617_GK.Player.str.extract(r'(^.*?(?=\\))', expand = True)

dataBL_1617_GK = pd.read_csv('https://raw.githubusercontent.com/Aficionado29/CorrAnalysis/main/data/BL_1617_GK.csv', encoding = 'utf-8')
dataBL_1617_GK['Player'] = dataBL_1617_GK.Player.str.extract(r'(^.*?(?=\\))', expand = True)

dataL1_1617_GK = pd.read_csv('https://raw.githubusercontent.com/Aficionado29/CorrAnalysis/main/data/L1_1617_GK.csv', encoding = 'utf-8')
dataL1_1617_GK['Player'] = dataL1_1617_GK.Player.str.extract(r'(^.*?(?=\\))', expand = True)



dataPL_1617_MISC = pd.read_csv('https://raw.githubusercontent.com/Aficionado29/CorrAnalysis/main/data/PL_1617_MISC.csv', encoding = 'utf-8')
dataPL_1617_MISC['Player'] = dataPL_1617_MISC.Player.str.extract(r'(^.*?(?=\\))', expand = True)
dataPL_1617_MISC = pd.concat([dataPL_1617_MISC, dataPL_1617_MISC]).groupby(['Player']).sum()/2

dataLL_1617_MISC = pd.read_csv('https://raw.githubusercontent.com/Aficionado29/CorrAnalysis/main/data/LL_1617_MISC.csv', encoding = 'utf-8')
dataLL_1617_MISC['Player'] = dataLL_1617_MISC.Player.str.extract(r'(^.*?(?=\\))', expand = True)
dataLL_1617_MISC = pd.concat([dataLL_1617_MISC, dataLL_1617_MISC]).groupby(['Player']).sum()/2

dataSA_1617_MISC = pd.read_csv('https://raw.githubusercontent.com/Aficionado29/CorrAnalysis/main/data/SA_1617_MISC.csv', encoding = 'utf-8')
dataSA_1617_MISC['Player'] = dataSA_1617_MISC.Player.str.extract(r'(^.*?(?=\\))', expand = True)
dataSA_1617_MISC = pd.concat([dataSA_1617_MISC, dataSA_1617_MISC]).groupby(['Player']).sum()/2

dataBL_1617_MISC = pd.read_csv('https://raw.githubusercontent.com/Aficionado29/CorrAnalysis/main/data/BL_1617_MISC.csv', encoding = 'utf-8')
dataBL_1617_MISC['Player'] = dataBL_1617_MISC.Player.str.extract(r'(^.*?(?=\\))', expand = True)
dataBL_1617_MISC = pd.concat([dataBL_1617_MISC, dataBL_1617_MISC]).groupby(['Player']).sum()/2

dataL1_1617_MISC = pd.read_csv('https://raw.githubusercontent.com/Aficionado29/CorrAnalysis/main/data/L1_1617_MISC.csv', encoding = 'utf-8')
dataL1_1617_MISC['Player'] = dataL1_1617_MISC.Player.str.extract(r'(^.*?(?=\\))', expand = True)
dataL1_1617_MISC = pd.concat([dataL1_1617_MISC, dataL1_1617_MISC]).groupby(['Player']).sum()/2


# ************************************* combine real-world datasets ************************************* #
dataPL = dataPL_1617_STD.join(dataPL_1617_MISC, lsuffix='_s', rsuffix='_m').join(dataPL_1617_GK.set_index('Player'), lsuffix='_sm', rsuffix='_gk')
dataLL = dataLL_1617_STD.join(dataLL_1617_MISC, lsuffix='_s', rsuffix='_m').join(dataLL_1617_GK.set_index('Player'), lsuffix='_sm', rsuffix='_gk')
dataSA = dataSA_1617_STD.join(dataSA_1617_MISC, lsuffix='_s', rsuffix='_m').join(dataSA_1617_GK.set_index('Player'), lsuffix='_sm', rsuffix='_gk')
dataBL = dataBL_1617_STD.join(dataBL_1617_MISC, lsuffix='_s', rsuffix='_m').join(dataBL_1617_GK.set_index('Player'), lsuffix='_sm', rsuffix='_gk')
dataL1 = dataL1_1617_STD.join(dataL1_1617_MISC, lsuffix='_s', rsuffix='_m').join(dataL1_1617_GK.set_index('Player'), lsuffix='_sm', rsuffix='_gk')


# ************************************** final selection of columns ************************************* #
dataPL = dataPL[['MP_sm', 'Gls', 'Ast', 'CrdY_s', 'CrdR_s', 'Fls', 'Fld', 'Off', 'Crs', 'Int', 'TklW','PKwon', 'PKcon', 'OG', 'GA', 'Saves', 'W', 'L', 'CS']]
dataLL = dataLL[['MP_sm', 'Gls', 'Ast', 'CrdY_s', 'CrdR_s', 'Fls', 'Fld', 'Off', 'Crs', 'Int', 'TklW','PKwon', 'PKcon', 'OG', 'GA', 'Saves', 'W', 'L', 'CS']]
dataSA = dataSA[['MP_sm', 'Gls', 'Ast', 'CrdY_s', 'CrdR_s', 'Fls', 'Fld', 'Off', 'Crs', 'Int', 'TklW','PKwon', 'PKcon', 'OG', 'GA', 'Saves', 'W', 'L', 'CS']]
dataBL = dataBL[['MP_sm', 'Gls', 'Ast', 'CrdY_s', 'CrdR_s', 'Fls', 'Fld', 'Off', 'Crs', 'Int', 'TklW','PKwon', 'PKcon', 'OG', 'GA', 'Saves', 'W', 'L', 'CS']]
dataL1 = dataL1[['MP_sm', 'Gls', 'Ast', 'CrdY_s', 'CrdR_s', 'Fls', 'Fld', 'Off', 'Crs', 'Int', 'TklW','PKwon', 'PKcon', 'OG', 'GA', 'Saves', 'W', 'L', 'CS']]


# *************************** rename the columns to human-understandable form *************************** #
dataPL.columns = ['Matches_played', 'Goals', 'Assists', 'Yellow_cards', 'Red_cards', 'Fouls_commited', 'Fouls_drawn', 'Offsides', 'Crosses', 'Interceptions', 'Tackles_won','Penalties_won', 'Penalties_conceided', 'Own_goals', 'Goals_against', 'Saves', 'Wins', 'Loses', 'Clean_sheets']
dataLL.columns = ['Matches_played', 'Goals', 'Assists', 'Yellow_cards', 'Red_cards', 'Fouls_commited', 'Fouls_drawn', 'Offsides', 'Crosses', 'Interceptions', 'Tackles_won','Penalties_won', 'Penalties_conceided', 'Own_goals', 'Goals_against', 'Saves', 'Wins', 'Loses', 'Clean_sheets']
dataSA.columns = ['Matches_played', 'Goals', 'Assists', 'Yellow_cards', 'Red_cards', 'Fouls_commited', 'Fouls_drawn', 'Offsides', 'Crosses', 'Interceptions', 'Tackles_won','Penalties_won', 'Penalties_conceided', 'Own_goals', 'Goals_against', 'Saves', 'Wins', 'Loses', 'Clean_sheets']
dataBL.columns = ['Matches_played', 'Goals', 'Assists', 'Yellow_cards', 'Red_cards', 'Fouls_commited', 'Fouls_drawn', 'Offsides', 'Crosses', 'Interceptions', 'Tackles_won','Penalties_won', 'Penalties_conceided', 'Own_goals', 'Goals_against', 'Saves', 'Wins', 'Loses', 'Clean_sheets']
dataL1.columns = ['Matches_played', 'Goals', 'Assists', 'Yellow_cards', 'Red_cards', 'Fouls_commited', 'Fouls_drawn', 'Offsides', 'Crosses', 'Interceptions', 'Tackles_won','Penalties_won', 'Penalties_conceided', 'Own_goals', 'Goals_against', 'Saves', 'Wins', 'Loses', 'Clean_sheets']


# ************************ fill the missing attributes with 0es for calculations ************************ #
dataPL = dataPL.fillna(0)
dataLL = dataLL.fillna(0)
dataSA = dataSA.fillna(0)
dataBL = dataBL.fillna(0)
dataL1 = dataL1.fillna(0)

# ******************************************************************************************************* #
# ******************************************************************************************************* #
# ******************************************************************************************************* #



# ******************************************************************************************************* #
# **************************************** CALCULATE STATISTICS ***************************************** #
# ******************************************************************************************************* #

statisticsPL = (dataPL.dot(weights) * PL_multiplier / dataPL['Matches_played']).to_frame()
statisticsLL = (dataLL.dot(weights) * LL_multiplier / dataLL['Matches_played']).to_frame()
statisticsSA = (dataSA.dot(weights) * SA_multiplier / dataSA['Matches_played']).to_frame()
statisticsBL = (dataBL.dot(weights) * BL_multiplier / dataBL['Matches_played']).to_frame()
statisticsL1 = (dataL1.dot(weights) * L1_multiplier / dataL1['Matches_played']).to_frame()

statistics_values_PL = pd.concat([dataFifa18.set_index('name').merge(statisticsPL, left_index=True, right_index=True),dataFifa18.set_index('full_name').merge(statisticsPL, left_index=True, right_index=True)], axis=0, ignore_index=True)
statistics_values_PL.columns = ['Name', 'Value', 'Overall_rating', 'Statistical_rating', 'Short_name']
statistics_values_PL.Name = np.where(statistics_values_PL.Name.isnull(), statistics_values_PL.Short_name, statistics_values_PL.Name)
statistics_values_PL.Short_name = np.where(statistics_values_PL.Short_name.isnull(), statistics_values_PL.Name, statistics_values_PL.Short_name)

statistics_values_LL = pd.concat([dataFifa18.set_index('name').merge(statisticsLL, left_index=True, right_index=True),dataFifa18.set_index('full_name').merge(statisticsLL, left_index=True, right_index=True)], axis=0, ignore_index=True)
statistics_values_LL.columns = ['Name', 'Value', 'Overall_rating', 'Statistical_rating', 'Short_name']
statistics_values_LL.Name = np.where(statistics_values_LL.Name.isnull(), statistics_values_LL.Short_name, statistics_values_LL.Name)
statistics_values_LL.Short_name = np.where(statistics_values_LL.Short_name.isnull(), statistics_values_LL.Name, statistics_values_LL.Short_name)

statistics_values_SA = pd.concat([dataFifa18.set_index('name').merge(statisticsSA, left_index=True, right_index=True),dataFifa18.set_index('full_name').merge(statisticsSA, left_index=True, right_index=True)], axis=0, ignore_index=True)
statistics_values_SA.columns = ['Name', 'Value', 'Overall_rating', 'Statistical_rating', 'Short_name']
statistics_values_SA.Name = np.where(statistics_values_SA.Name.isnull(), statistics_values_SA.Short_name, statistics_values_SA.Name)
statistics_values_SA.Short_name = np.where(statistics_values_SA.Short_name.isnull(), statistics_values_SA.Name, statistics_values_SA.Short_name)

statistics_values_BL = pd.concat([dataFifa18.set_index('name').merge(statisticsBL, left_index=True, right_index=True),dataFifa18.set_index('full_name').merge(statisticsBL, left_index=True, right_index=True)], axis=0, ignore_index=True)
statistics_values_BL.columns = ['Name', 'Value', 'Overall_rating', 'Statistical_rating', 'Short_name']
statistics_values_BL.Name = np.where(statistics_values_BL.Name.isnull(), statistics_values_BL.Short_name, statistics_values_BL.Name)
statistics_values_BL.Short_name = np.where(statistics_values_BL.Short_name.isnull(), statistics_values_BL.Name, statistics_values_BL.Short_name)

statistics_values_L1 = pd.concat([dataFifa18.set_index('name').merge(statisticsL1, left_index=True, right_index=True),dataFifa18.set_index('full_name').merge(statisticsL1, left_index=True, right_index=True)], axis=0, ignore_index=True)
statistics_values_L1.columns = ['Name', 'Value', 'Overall_rating', 'Statistical_rating', 'Short_name']
statistics_values_L1.Name = np.where(statistics_values_L1.Name.isnull(), statistics_values_L1.Short_name, statistics_values_L1.Name)
statistics_values_L1.Short_name = np.where(statistics_values_L1.Short_name.isnull(), statistics_values_L1.Name, statistics_values_L1.Short_name)

# ******************************************************************************************************* #
# ******************************************************************************************************* #
# ******************************************************************************************************* #



# ******************************************************************************************************* #
# ******************************************* VISUALIZATIONS ******************************************** #
# ******************************************************************************************************* #

min = statistics_values_PL['Value'].min()/ 1000
max = statistics_values_PL['Value'].max()/ 1000
s = statistics_values_PL['Value'] / 1000
binDef = pd.Series(range(int(min), int(max), int((max - min) / 300)))
s.plot.hist(bins=binDef, alpha=1, figsize=(20,6), legend=True, label=PL)


min = statistics_values_LL['Value'].min()/ 1000
max = statistics_values_LL['Value'].max()/ 1000
s = statistics_values_LL['Value'] / 1000
binDef = pd.Series(range(int(min), int(max), int((max - min) / 300)))
s.plot.hist(bins=binDef, alpha=1, figsize=(20,6), legend=True, label=LL)


min = statistics_values_SA['Value'].min()/ 1000
max = statistics_values_SA['Value'].max()/ 1000
s = statistics_values_SA['Value'] / 1000
binDef = pd.Series(range(int(min), int(max), int((max - min) / 300)))
s.plot.hist(bins=binDef, alpha=1, figsize=(20,6), legend=True, label=SA)


min = statistics_values_BL['Value'].min()/ 1000
max = statistics_values_BL['Value'].max()/ 1000
s = statistics_values_BL['Value'] / 1000
binDef = pd.Series(range(int(min), int(max), int((max - min) / 300)))
s.plot.hist(bins=binDef, alpha=1, figsize=(20,6), legend=True, label=BL)


min = statistics_values_L1['Value'].min()/ 1000
max = statistics_values_L1['Value'].max()/ 1000
s = statistics_values_L1['Value'] / 1000
binDef = pd.Series(range(int(min), int(max), int((max - min) / 300)))
s.plot.hist(bins=binDef, alpha=1, figsize=(20,10), legend=True, label=L1)

plt.title('Distribution of players\' values in each league')
plt.xlabel('Value in €, divided by 1000')

# ******************************************************************************************************* #
# ******************************************************************************************************* #
# ******************************************************************************************************* #



# ******************************************************************************************************* #
# ********************************************* CORRELATIONS ******************************************** #
# ******************************************************************************************************* #

print("Correlation between player\'s value and statistics in ",PL," = ", statistics_values_PL.corr()['Value']['Statistical_rating'])
print("Correlation between player\'s value and statistics in ",LL," = ", statistics_values_LL.corr()['Value']['Statistical_rating'])
print("Correlation between player\'s value and statistics in ",SA," = ", statistics_values_SA.corr()['Value']['Statistical_rating'])
print("Correlation between player\'s value and statistics in ",BL," = ", statistics_values_BL.corr()['Value']['Statistical_rating'])
print("Correlation between player\'s value and statistics in ",L1," = ", statistics_values_L1.corr()['Value']['Statistical_rating'])

print("\n-----------------------------------------------------------------------------\n")

print("Correlation between overall rating and statistics in ",PL," = ", statistics_values_PL.corr()['Overall_rating']['Statistical_rating'])
print("Correlation between overall rating and statistics in ",LL," = ", statistics_values_LL.corr()['Overall_rating']['Statistical_rating'])
print("Correlation between overall rating and statistics in ",SA," = ", statistics_values_SA.corr()['Overall_rating']['Statistical_rating'])
print("Correlation between overall rating and statistics in ",BL," = ", statistics_values_BL.corr()['Overall_rating']['Statistical_rating'])
print("Correlation between overall rating and statistics in ",L1," = ", statistics_values_L1.corr()['Overall_rating']['Statistical_rating'])

# ******************************************************************************************************* #
# ******************************************************************************************************* #
# ******************************************************************************************************* #



# ******************************************************************************************************* #
# *********************************************** OUTLIERS ********************************************** #
# ******************************************************************************************************* #

print("\n-----------------------------------------------------------------------------")
print("\nOutliers in ",PL)
top_10_Perc_Salary = statistics_values_PL.sort_values(by='Value')[math.ceil(statistics_values_PL.size/5*0.9):]
top_10_Perc_Rating = statistics_values_PL.sort_values(by='Overall_rating')[math.ceil(statistics_values_PL.size/5*0.9):]
top_10_Perc_Statistics = statistics_values_PL.sort_values(by='Statistical_rating')[math.ceil(statistics_values_PL.size/5*0.9):]
bottom_10_Perc_Salary = statistics_values_PL.sort_values(by='Value')[:math.ceil(statistics_values_PL.size/5*0.1)]
bottom_10_Perc_Rating = statistics_values_PL.sort_values(by='Overall_rating')[:math.ceil(statistics_values_PL.size/5*0.1)]
bottom_10_Perc_Statistics = statistics_values_PL.sort_values(by='Statistical_rating')[:math.ceil(statistics_values_PL.size/5*0.1)]
print("Outlying players with high salary and low real-world statistical rating")
tmp = top_10_Perc_Salary.merge(bottom_10_Perc_Statistics)[['Name','Value','Statistical_rating']]
if tmp.empty:
    print("None")
else:
    print(tmp)
print("\nOutlying players with low salary and high real-world statistical rating")
tmp = bottom_10_Perc_Salary.merge(top_10_Perc_Statistics)[['Name','Value','Statistical_rating']]
if tmp.empty:
    print("None")
else:
    print(tmp)
print("\nOutlying players with high overall rating and low real-world statistical rating")
tmp = top_10_Perc_Rating.merge(bottom_10_Perc_Statistics)[['Name','Overall_rating','Statistical_rating']]
if tmp.empty:
    print("None")
else:
    print(tmp)
print("\nOutlying players with low overall rating and high real-world statistical rating")
tmp = bottom_10_Perc_Rating.merge(top_10_Perc_Statistics)[['Name','Overall_rating','Statistical_rating']]
if tmp.empty:
    print("None")
else:
    print(tmp)

print("\n-----------------------------------------------------------------------------")
print("\nOutliers in ",LL)
top_10_Perc_Salary = statistics_values_LL.sort_values(by='Value')[math.ceil(statistics_values_LL.size/5*0.9):]
top_10_Perc_Rating = statistics_values_LL.sort_values(by='Overall_rating')[math.ceil(statistics_values_LL.size/5*0.9):]
top_10_Perc_Statistics = statistics_values_LL.sort_values(by='Statistical_rating')[math.ceil(statistics_values_LL.size/5*0.9):]
bottom_10_Perc_Salary = statistics_values_LL.sort_values(by='Value')[:math.ceil(statistics_values_LL.size/5*0.1)]
bottom_10_Perc_Rating = statistics_values_LL.sort_values(by='Overall_rating')[:math.ceil(statistics_values_LL.size/5*0.1)]
bottom_10_Perc_Statistics = statistics_values_LL.sort_values(by='Statistical_rating')[:math.ceil(statistics_values_LL.size/5*0.1)]
print("Outlying players with high salary and low real-world statistical rating")
tmp = top_10_Perc_Salary.merge(bottom_10_Perc_Statistics)[['Name','Value','Statistical_rating']]
if tmp.empty:
    print("None")
else:
    print(tmp)
print("\nOutlying players with low salary and high real-world statistical rating")
tmp = bottom_10_Perc_Salary.merge(top_10_Perc_Statistics)[['Name','Value','Statistical_rating']]
if tmp.empty:
    print("None")
else:
    print(tmp)
print("\nOutlying players with high overall rating and low real-world statistical rating")
tmp = top_10_Perc_Rating.merge(bottom_10_Perc_Statistics)[['Name','Overall_rating','Statistical_rating']]
if tmp.empty:
    print("None")
else:
    print(tmp)
print("\nOutlying players with low overall rating and high real-world statistical rating")
tmp = bottom_10_Perc_Rating.merge(top_10_Perc_Statistics)[['Name','Overall_rating','Statistical_rating']]
if tmp.empty:
    print("None")
else:
    print(tmp)

print("\n-----------------------------------------------------------------------------")
print("\nOutliers in ",SA)
top_10_Perc_Salary = statistics_values_SA.sort_values(by='Value')[math.ceil(statistics_values_SA.size/5*0.9):]
top_10_Perc_Rating = statistics_values_SA.sort_values(by='Overall_rating')[math.ceil(statistics_values_SA.size/5*0.9):]
top_10_Perc_Statistics = statistics_values_SA.sort_values(by='Statistical_rating')[math.ceil(statistics_values_SA.size/5*0.9):]
bottom_10_Perc_Salary = statistics_values_SA.sort_values(by='Value')[:math.ceil(statistics_values_SA.size/5*0.1)]
bottom_10_Perc_Rating = statistics_values_SA.sort_values(by='Overall_rating')[:math.ceil(statistics_values_SA.size/5*0.1)]
bottom_10_Perc_Statistics = statistics_values_SA.sort_values(by='Statistical_rating')[:math.ceil(statistics_values_SA.size/5*0.1)]
print("Outlying players with high salary and low real-world statistical rating")
tmp = top_10_Perc_Salary.merge(bottom_10_Perc_Statistics)[['Name','Value','Statistical_rating']]
if tmp.empty:
    print("None")
else:
    print(tmp)
print("\nOutlying players with low salary and high real-world statistical rating")
tmp = bottom_10_Perc_Salary.merge(top_10_Perc_Statistics)[['Name','Value','Statistical_rating']]
if tmp.empty:
    print("None")
else:
    print(tmp)
print("\nOutlying players with high overall rating and low real-world statistical rating")
tmp = top_10_Perc_Rating.merge(bottom_10_Perc_Statistics)[['Name','Overall_rating','Statistical_rating']]
if tmp.empty:
    print("None")
else:
    print(tmp)
print("\nOutlying players with low overall rating and high real-world statistical rating")
tmp = bottom_10_Perc_Rating.merge(top_10_Perc_Statistics)[['Name','Overall_rating','Statistical_rating']]
if tmp.empty:
    print("None")
else:
    print(tmp)

print("\n-----------------------------------------------------------------------------")
print("\nOutliers in ",BL)
top_10_Perc_Salary = statistics_values_BL.sort_values(by='Value')[math.ceil(statistics_values_BL.size/5*0.9):]
top_10_Perc_Rating = statistics_values_BL.sort_values(by='Overall_rating')[math.ceil(statistics_values_BL.size/5*0.9):]
top_10_Perc_Statistics = statistics_values_BL.sort_values(by='Statistical_rating')[math.ceil(statistics_values_BL.size/5*0.9):]
bottom_10_Perc_Salary = statistics_values_BL.sort_values(by='Value')[:math.ceil(statistics_values_BL.size/5*0.1)]
bottom_10_Perc_Rating = statistics_values_BL.sort_values(by='Overall_rating')[:math.ceil(statistics_values_BL.size/5*0.1)]
bottom_10_Perc_Statistics = statistics_values_BL.sort_values(by='Statistical_rating')[:math.ceil(statistics_values_BL.size/5*0.1)]
print("Outlying players with high salary and low real-world statistical rating")
tmp = top_10_Perc_Salary.merge(bottom_10_Perc_Statistics)[['Name','Value','Statistical_rating']]
if tmp.empty:
    print("None")
else:
    print(tmp)
print("\nOutlying players with low salary and high real-world statistical rating")
tmp = bottom_10_Perc_Salary.merge(top_10_Perc_Statistics)[['Name','Value','Statistical_rating']]
if tmp.empty:
    print("None")
else:
    print(tmp)
print("\nOutlying players with high overall rating and low real-world statistical rating")
tmp = top_10_Perc_Rating.merge(bottom_10_Perc_Statistics)[['Name','Overall_rating','Statistical_rating']]
if tmp.empty:
    print("None")
else:
    print(tmp)
print("\nOutlying players with low overall rating and high real-world statistical rating")
tmp = bottom_10_Perc_Rating.merge(top_10_Perc_Statistics)[['Name','Overall_rating','Statistical_rating']]
if tmp.empty:
    print("None")
else:
    print(tmp)

print("\n-----------------------------------------------------------------------------")
print("\nOutliers in ",L1)
top_10_Perc_Salary = statistics_values_L1.sort_values(by='Value')[math.ceil(statistics_values_L1.size/5*0.9):]
top_10_Perc_Rating = statistics_values_L1.sort_values(by='Overall_rating')[math.ceil(statistics_values_L1.size/5*0.9):]
top_10_Perc_Statistics = statistics_values_L1.sort_values(by='Statistical_rating')[math.ceil(statistics_values_L1.size/5*0.9):]
bottom_10_Perc_Salary = statistics_values_L1.sort_values(by='Value')[:math.ceil(statistics_values_L1.size/5*0.1)]
bottom_10_Perc_Rating = statistics_values_L1.sort_values(by='Overall_rating')[:math.ceil(statistics_values_L1.size/5*0.1)]
bottom_10_Perc_Statistics = statistics_values_L1.sort_values(by='Statistical_rating')[:math.ceil(statistics_values_L1.size/5*0.1)]
print("Outlying players with high salary and low real-world statistical rating")
tmp = top_10_Perc_Salary.merge(bottom_10_Perc_Statistics)[['Name','Value','Statistical_rating']]
if tmp.empty:
    print("None")
else:
    print(tmp)
print("\nOutlying players with low salary and high real-world statistical rating")
tmp = bottom_10_Perc_Salary.merge(top_10_Perc_Statistics)[['Name','Value','Statistical_rating']]
if tmp.empty:
    print("None")
else:
    print(tmp)
print("\nOutlying players with high overall rating and low real-world statistical rating")
tmp = top_10_Perc_Rating.merge(bottom_10_Perc_Statistics)[['Name','Overall_rating','Statistical_rating']]
if tmp.empty:
    print("None")
else:
    print(tmp)
print("\nOutlying players with low overall rating and high real-world statistical rating")
tmp = bottom_10_Perc_Rating.merge(top_10_Perc_Statistics)[['Name','Overall_rating','Statistical_rating']]
if tmp.empty:
    print("None")
else:
    print(tmp)

# ******************************************************************************************************* #
# ******************************************************************************************************* #
# ******************************************************************************************************* #
